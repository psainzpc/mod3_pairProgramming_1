{
 "cells": [
  {
   "cell_type": "code",
   "execution_count": 1,
   "metadata": {},
   "outputs": [],
   "source": [
    "import numpy as np"
   ]
  },
  {
   "cell_type": "markdown",
   "metadata": {},
   "source": [
    "1. Crea un array 1D con 50 valores aleatorio del 10 al 99. Accede a los elementos en las posiciones múltiplos de 5.\n"
   ]
  },
  {
   "cell_type": "code",
   "execution_count": 2,
   "metadata": {},
   "outputs": [
    {
     "name": "stdout",
     "output_type": "stream",
     "text": [
      "el array aleatorio de 1d es: \n",
      " [92 63 87 72 39 48 54 35 33 44 71 63 37 21 40 41 52 18 88 55 25 35 42 57\n",
      " 61 71 45 36 24 90 25 19 39 79 10 90 70 80 58 39 74 68 61 12 75 94 15 18\n",
      " 11 54]\n",
      "---------------------\n",
      "las posiciones con multiplos de 5 son: \n",
      " [92 48 71 41 25 71 25 90 74 94]\n"
     ]
    }
   ],
   "source": [
    "array1d= np.random.randint(10, 100, 50)\n",
    "elementos_mult_5 = array1d[::5]\n",
    "print(f\"el array aleatorio de 1d es: \\n {array1d}\")\n",
    "print(\"---------------------\")\n",
    "print(f\"las posiciones con multiplos de 5 son: \\n {elementos_mult_5}\")"
   ]
  },
  {
   "cell_type": "markdown",
   "metadata": {},
   "source": [
    "2. Crea un array 1D con 30 valores del 1 al 20 (ambos incluidos). Utiliza indexación para obtener los elementos en las posiciones impares."
   ]
  },
  {
   "cell_type": "code",
   "execution_count": 4,
   "metadata": {},
   "outputs": [
    {
     "name": "stdout",
     "output_type": "stream",
     "text": [
      "el array aleatorio de 1d es: \n",
      " [15 16  9 11  3 10 13  1 18  1 13 12 17 12  6 14  9  2 19 20 13 12  8  3\n",
      " 13  6 14 13 17 19]\n",
      "---------------------\n",
      "Los elementos en posiciones impares del array son: \n",
      " [16 11 10  1  1 12 12 14  2 20 12  3  6 13 19]\n"
     ]
    }
   ],
   "source": [
    "array_1d= np.random.randint(1, 21, 30)\n",
    "print(f\"el array aleatorio de 1d es: \\n {array_1d}\")\n",
    "print(\"---------------------\")\n",
    "print(f\"Los elementos en posiciones impares del array son: \\n {array_1d[1::2]}\")"
   ]
  },
  {
   "cell_type": "markdown",
   "metadata": {},
   "source": [
    "3. Crea un array 2D de forma (4, 6) con números aleatorios decimales (no deben estar comprendidos solo entre 0 y 1). Accede a la última fila de la matriz. Los decimales deben estar redondeados a 2 decimales."
   ]
  },
  {
   "cell_type": "code",
   "execution_count": 28,
   "metadata": {},
   "outputs": [
    {
     "name": "stdout",
     "output_type": "stream",
     "text": [
      "Array 2D completo:\n",
      " [[97.96 99.01 35.13  1.62 21.02 90.21]\n",
      " [10.51 62.28 26.1  62.76  3.77 16.74]\n",
      " [70.05 91.39 78.81 93.01 64.48 15.97]\n",
      " [82.89 83.85 58.46 94.9  17.49 82.96]]\n",
      "------------------------\n",
      "Última fila de la matriz: [82.89 83.85 58.46 94.9  17.49 82.96]\n"
     ]
    }
   ],
   "source": [
    "# con el uniform genera números decimales (float)\n",
    "# en el uniform tenemos que especificarle el random: en este caso entre 0-90\n",
    "#array_2d_float = np.random.uniform(0, 90, (4, 6))\n",
    "#array_2d_float\n",
    "\n",
    "# Crear un array 2D de forma (4, 6) con números decimales aleatorios, redondeados a 2 decimales\n",
    "# con np.random.random también sale\n",
    "array_2d_decimal = np.round(np.random.sample((4, 6)) * 100, 2)  # Multiplicamos por 100 para obtener decimales más variados\n",
    "\n",
    "# Acceder a la última fila de la matriz\n",
    "ultima_fila_decimal = array_2d_decimal[-1]\n",
    "\n",
    "print(\"Array 2D completo:\\n\", array_2d_decimal)\n",
    "print(\"------------------------\")\n",
    "print(\"Última fila de la matriz:\", ultima_fila_decimal)"
   ]
  },
  {
   "cell_type": "markdown",
   "metadata": {},
   "source": [
    "BONUS: Crea un array 3D de forma (2, 3, 5) y 30 elementos con números enteros entre 0 y 100 (ambos incluidos). Reemplaza los elementos en posiciones múltiplos de 3 por 0."
   ]
  },
  {
   "cell_type": "code",
   "execution_count": 33,
   "metadata": {},
   "outputs": [
    {
     "name": "stdout",
     "output_type": "stream",
     "text": [
      " el array 3d es: \n",
      " [[[ 75  31  94  61   6]\n",
      "  [ 10 100  16 100  47]\n",
      "  [ 19  33  53  99  11]]\n",
      "\n",
      " [[ 16  47  28  92  68]\n",
      "  [ 44  74  70  85  46]\n",
      "  [ 70  51  35  37   7]]]\n",
      "\n",
      "Array 3D modificado:\n",
      " [[[  0  31  94   0   6]\n",
      "  [ 10   0  16 100   0]\n",
      "  [ 19  33   0  99  11]]\n",
      "\n",
      " [[  0  47  28   0  68]\n",
      "  [ 44   0  70  85   0]\n",
      "  [ 70  51   0  37   7]]]\n"
     ]
    }
   ],
   "source": [
    "array_3d= np.random.randint(0, 101, (2,3,5))\n",
    "print(f\" el array 3d es: \\n {array_3d}\")\n",
    "array_3d_flat = array_3d.flatten()\n",
    "\n",
    "# Reemplazar los elementos en posiciones múltiplos de 3 por 0 \n",
    "array_3d_flat[::3] = 0 # Cada tercer elemento en el array plano se establece en 0\n",
    "# Reconstruir el array 3D con los elementos modificados \n",
    "array_3d_modificado = array_3d_flat.reshape(2, 3, 5) \n",
    "print(\"\\nArray 3D modificado:\\n\", array_3d_modificado)\n",
    "\n"
   ]
  },
  {
   "cell_type": "code",
   "execution_count": 35,
   "metadata": {},
   "outputs": [
    {
     "name": "stdout",
     "output_type": "stream",
     "text": [
      " el array 3d es: \n",
      " [[[ 56  65  64  33  65]\n",
      "  [ 69  54  54  56  90]\n",
      "  [ 44  67  82  99  24]]\n",
      "\n",
      " [[ 76 100  88  53  98]\n",
      "  [ 29  73  61  17   0]\n",
      "  [ 85  22  90  30  36]]]\n",
      "[ 0  1  2  3  4  5  6  7  8  9 10 11 12 13 14 15 16 17 18 19 20 21 22 23\n",
      " 24 25 26 27 28 29]\n",
      "\n",
      "Array 3D modificado:\n",
      " [[[  0  65  64   0  65]\n",
      "  [ 69   0  54  56   0]\n",
      "  [ 44  67   0  99  24]]\n",
      "\n",
      " [[  0 100  88   0  98]\n",
      "  [ 29   0  61  17   0]\n",
      "  [ 85  22   0  30  36]]]\n"
     ]
    }
   ],
   "source": [
    "#BONUS CON WHERE\n",
    "\n",
    "array_3d= np.random.randint(0, 101, (2,3,5))\n",
    "print(f\" el array 3d es: \\n {array_3d}\")\n",
    "array_3d_flat = array_3d.flatten()\n",
    "\n",
    "# Reemplazar los elementos en las posiciones múltiplos de 3 \n",
    "array_3d_flat = np.where(np.arange(array_3d_flat.size) % 3 == 0, 0, array_3d_flat)\n",
    "\n",
    "np.arange(array_3d_flat.size)\n",
    "# Volver a la forma 3D con el array modificado \n",
    "array_3d_modificado = array_3d_flat.reshape(2, 3, 5) \n",
    "print(\"\\nArray 3D modificado:\\n\", array_3d_modificado)"
   ]
  },
  {
   "cell_type": "markdown",
   "metadata": {},
   "source": [
    "# RESHAPE y TRANSPOSE"
   ]
  },
  {
   "cell_type": "markdown",
   "metadata": {},
   "source": [
    "\n",
    "1. Crea un array 3D de forma (2, 3, 4) con valores aleatorios entre 1 y 100 (ambos inclusive). Utiliza reshape para convertirlo en un array 2D. Deberás pensar en la forma que es correcta para hacer este cambio."
   ]
  },
  {
   "cell_type": "code",
   "execution_count": 37,
   "metadata": {},
   "outputs": [
    {
     "data": {
      "text/plain": [
       "array([[77, 89, 45, 90],\n",
       "       [42, 13, 70, 50],\n",
       "       [26, 30, 94, 62],\n",
       "       [90, 18, 67, 46],\n",
       "       [95, 92, 37, 74],\n",
       "       [24, 23, 20, 37]])"
      ]
     },
     "execution_count": 37,
     "metadata": {},
     "output_type": "execute_result"
    }
   ],
   "source": [
    "array3d= np.random.randint(1, 101, (2,3,4))\n",
    "array3d\n",
    "# sabiendo que tenemos un total de 24 de elementos, necesitamos que se mantenga el número de elementos. \n",
    "array_2d = array3d.reshape(6,4)\n",
    "array_2d"
   ]
  }
 ],
 "metadata": {
  "kernelspec": {
   "display_name": "base",
   "language": "python",
   "name": "python3"
  },
  "language_info": {
   "codemirror_mode": {
    "name": "ipython",
    "version": 3
   },
   "file_extension": ".py",
   "mimetype": "text/x-python",
   "name": "python",
   "nbconvert_exporter": "python",
   "pygments_lexer": "ipython3",
   "version": "3.12.4"
  }
 },
 "nbformat": 4,
 "nbformat_minor": 2
}
