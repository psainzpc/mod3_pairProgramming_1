{
 "cells": [
  {
   "cell_type": "code",
   "execution_count": 1,
   "metadata": {},
   "outputs": [],
   "source": [
    "# importamos la pandas para poder trabajar en la lección\n",
    "import pandas as pd\n",
    "\n",
    "# antes de empezar importamos la librería de NumPy para poder trabajar con todos sus métodos. \n",
    "import numpy as np\n",
    "\n",
    "import random\n"
   ]
  },
  {
   "cell_type": "code",
   "execution_count": null,
   "metadata": {},
   "outputs": [],
   "source": []
  },
  {
   "cell_type": "markdown",
   "metadata": {},
   "source": [
    "1 ¿Qué diferencia hay entre una Serie y un DataFrame?"
   ]
  },
  {
   "cell_type": "markdown",
   "metadata": {},
   "source": [
    "Serie unidimensional y DF bidimensional\n"
   ]
  },
  {
   "cell_type": "markdown",
   "metadata": {},
   "source": [
    "# SERIES"
   ]
  },
  {
   "cell_type": "markdown",
   "metadata": {},
   "source": [
    "2. Crea dos listas \n",
    "    \n",
    "- Una que se llame \"valores\" que tenga 7 números aleatorios.\n",
    "\n",
    "- Otra que se llame \"indices\" que tenga 7 strings que se llamen como los días de la semana."
   ]
  },
  {
   "cell_type": "code",
   "execution_count": 20,
   "metadata": {},
   "outputs": [
    {
     "data": {
      "text/plain": [
       "[52, 47, 24, 8, 1, 43, 25]"
      ]
     },
     "execution_count": 20,
     "metadata": {},
     "output_type": "execute_result"
    }
   ],
   "source": [
    "valores = [random.randint(1, 100) for num in range(7)]\n",
    "valores"
   ]
  },
  {
   "cell_type": "code",
   "execution_count": null,
   "metadata": {},
   "outputs": [],
   "source": [
    "# Crear una Serie de 7 números enteros aleatorios entre 1 y 100\n",
    "lista_aleatoria = pd.Series(np.random.randint(1, 101, size=7))\n",
    "print(lista_aleatoria)\n",
    "\n",
    "print(type(lista_aleatoria))"
   ]
  },
  {
   "cell_type": "code",
   "execution_count": null,
   "metadata": {},
   "outputs": [
    {
     "name": "stdout",
     "output_type": "stream",
     "text": [
      "<class 'list'>\n",
      "<class 'pandas.core.series.Series'>\n"
     ]
    }
   ],
   "source": [
    "# Pasos intermedios creacion serie\n",
    "indices_list = [\"Lunes\",\"Martes\",\"Miercoles\",\"Jueves\",\"Viernes\",\"Sabado\",\"Domingo\"]\n",
    "print(type(indices_list))\n",
    "\n",
    "indices = pd.Series(indices_list)\n",
    "print(type(indices))"
   ]
  },
  {
   "cell_type": "code",
   "execution_count": null,
   "metadata": {},
   "outputs": [],
   "source": [
    "# Creacion directa de la serie\n",
    "# indices = pd.Series(valores, index = [\"Lunes\",\"Martes\",\"Miercoles\",\"Jueves\",\"Viernes\",\"Sabado\",\"Domingo\"])\n",
    "# print(indices)\n",
    "# print(type(indices))"
   ]
  },
  {
   "cell_type": "markdown",
   "metadata": {},
   "source": [
    "\n",
    "A partir de estas dos listas crea una Serie donde la variable \"valores\" sean los valores de la Serie y la variable indices sean los índices de la Serie"
   ]
  },
  {
   "cell_type": "code",
   "execution_count": 26,
   "metadata": {},
   "outputs": [
    {
     "name": "stdout",
     "output_type": "stream",
     "text": [
      "Lunes        52\n",
      "Martes       47\n",
      "Miercoles    24\n",
      "Jueves        8\n",
      "Viernes       1\n",
      "Sabado       43\n",
      "Domingo      25\n",
      "dtype: int64\n",
      "<class 'pandas.core.series.Series'>\n"
     ]
    }
   ],
   "source": [
    "series = pd.Series(valores, index = indices_list)\n",
    "\n",
    "\n",
    "print(series)\n",
    "print(type(series))"
   ]
  },
  {
   "cell_type": "markdown",
   "metadata": {},
   "source": [
    "A partir de las dos listas anteriores crea un diccionario usando un bucle for. Para hacer esto tenemos el método zip que nos permite iterar por dos listas a la vez. "
   ]
  },
  {
   "cell_type": "markdown",
   "metadata": {},
   "source": [
    "NOTA: Lo hemos hecho pasando directamente a dict"
   ]
  },
  {
   "cell_type": "code",
   "execution_count": 41,
   "metadata": {},
   "outputs": [
    {
     "name": "stdout",
     "output_type": "stream",
     "text": [
      "<zip object at 0x7fc3fe4c97c0>\n"
     ]
    }
   ],
   "source": [
    "zip1 = zip(valores, indices_list)\n",
    "# Necesito formato lista para el printear -> ojo la funcion zip es de 1 solo uso, si vuelvo a printear, me sale vacio\n",
    "print(zip1)\n",
    "\n"
   ]
  },
  {
   "cell_type": "code",
   "execution_count": 42,
   "metadata": {},
   "outputs": [
    {
     "name": "stdout",
     "output_type": "stream",
     "text": [
      "[(52, 'Lunes'), (47, 'Martes'), (24, 'Miercoles'), (8, 'Jueves'), (1, 'Viernes'), (43, 'Sabado'), (25, 'Domingo')]\n"
     ]
    }
   ],
   "source": [
    "zip1_list = list(zip1)\n",
    "print(zip1_list)"
   ]
  },
  {
   "cell_type": "code",
   "execution_count": 51,
   "metadata": {},
   "outputs": [
    {
     "name": "stdout",
     "output_type": "stream",
     "text": [
      "[(52, 'Lunes'), (47, 'Martes'), (24, 'Miercoles'), (8, 'Jueves'), (1, 'Viernes'), (43, 'Sabado'), (25, 'Domingo')]\n",
      "{52: 'Lunes', 47: 'Martes', 24: 'Miercoles', 8: 'Jueves', 1: 'Viernes', 43: 'Sabado', 25: 'Domingo'}\n",
      "<class 'dict'>\n"
     ]
    }
   ],
   "source": [
    "print(zip1_list)\n",
    "\n",
    "zip1_dicc = dict(zip1_list)\n",
    "print(zip1_dicc)\n",
    "print(type(zip1_dicc))\n"
   ]
  },
  {
   "cell_type": "markdown",
   "metadata": {},
   "source": [
    "Crea una Serie con el diccionario creado en el punto anterior"
   ]
  },
  {
   "cell_type": "code",
   "execution_count": 54,
   "metadata": {},
   "outputs": [
    {
     "name": "stdout",
     "output_type": "stream",
     "text": [
      "{52: 'Lunes', 47: 'Martes', 24: 'Miercoles', 8: 'Jueves', 1: 'Viernes', 43: 'Sabado', 25: 'Domingo'}\n",
      "<class 'pandas.core.series.Series'>\n"
     ]
    }
   ],
   "source": [
    "serie_dicc = pd.Series(zip1_dicc)\n",
    "print(zip1_dicc)\n",
    "\n",
    "print(type(serie_dicc))"
   ]
  },
  {
   "cell_type": "markdown",
   "metadata": {},
   "source": [
    "\n",
    "¿Qué forma tiene esta última Serie?"
   ]
  },
  {
   "cell_type": "code",
   "execution_count": 55,
   "metadata": {},
   "outputs": [
    {
     "name": "stdout",
     "output_type": "stream",
     "text": [
      "El método 'shape' nos devuelve la forma de la Serie: (7,)\n"
     ]
    }
   ],
   "source": [
    "print(f\"El método 'shape' nos devuelve la forma de la Serie: {serie_dicc.shape}\")"
   ]
  },
  {
   "cell_type": "markdown",
   "metadata": {},
   "source": [
    "\n",
    "¿Qué tipo de datos tiene?"
   ]
  },
  {
   "cell_type": "code",
   "execution_count": 56,
   "metadata": {},
   "outputs": [
    {
     "name": "stdout",
     "output_type": "stream",
     "text": [
      "El método 'dtypes' nos devuelve el tipo de datos de la Serie: object\n"
     ]
    }
   ],
   "source": [
    "#utilizando el método 'dtypes' nos devuelve el tipo de datos de la Serie\n",
    "print(f\"El método 'dtypes' nos devuelve el tipo de datos de la Serie: {serie_dicc.dtypes}\")"
   ]
  },
  {
   "cell_type": "markdown",
   "metadata": {},
   "source": [
    "\n",
    "¿Qué tamaño tiene?"
   ]
  },
  {
   "cell_type": "code",
   "execution_count": 57,
   "metadata": {},
   "outputs": [
    {
     "name": "stdout",
     "output_type": "stream",
     "text": [
      "El método 'size' nos devuelve el número de elementos de la Serie: 7\n"
     ]
    }
   ],
   "source": [
    "#utilizando el método 'size' nos devuelve el número de elementos que tenemos en la Serie\n",
    "print(f\"El método 'size' nos devuelve el número de elementos de la Serie: {serie_dicc.size}\")"
   ]
  },
  {
   "cell_type": "markdown",
   "metadata": {},
   "source": [
    "# DATAFRAME "
   ]
  },
  {
   "cell_type": "markdown",
   "metadata": {},
   "source": [
    "\n",
    "Crea un array de dos dimensiones con 4 filas y 3 columnas."
   ]
  },
  {
   "cell_type": "code",
   "execution_count": 60,
   "metadata": {},
   "outputs": [
    {
     "data": {
      "text/plain": [
       "array([[0., 0., 0.],\n",
       "       [0., 0., 0.],\n",
       "       [0., 0., 0.],\n",
       "       [0., 0., 0.]])"
      ]
     },
     "execution_count": 60,
     "metadata": {},
     "output_type": "execute_result"
    }
   ],
   "source": [
    "array_vacio = np.empty((4,3))\n",
    "array_vacio"
   ]
  },
  {
   "cell_type": "code",
   "execution_count": null,
   "metadata": {},
   "outputs": [],
   "source": [
    "\n",
    "# Opcion de creacion array directa con 0\n",
    "# Crear un array de 4 filas y 3 columnas\n",
    "array_2d = np.zeros((4, 3))\n",
    "\n",
    "print(array_2d)\n"
   ]
  },
  {
   "cell_type": "markdown",
   "metadata": {},
   "source": [
    "\n",
    "Convierte el array en un DataFrame donde las columnas se llamen \"España\", \"Francia\" e \"Italia\"."
   ]
  },
  {
   "cell_type": "code",
   "execution_count": 71,
   "metadata": {},
   "outputs": [
    {
     "name": "stdout",
     "output_type": "stream",
     "text": [
      "   España  Francia  Italia\n",
      "0     0.0      0.0     0.0\n",
      "1     0.0      0.0     0.0\n",
      "2     0.0      0.0     0.0\n",
      "3     0.0      0.0     0.0\n",
      "<class 'pandas.core.frame.DataFrame'>\n"
     ]
    }
   ],
   "source": [
    "df_array_vacio = pd.DataFrame(array_vacio, columns=[\"España\", \"Francia\", \"Italia\"])\n",
    "print(df_array_vacio)\n",
    "print(type(df_array_vacio))"
   ]
  },
  {
   "cell_type": "markdown",
   "metadata": {},
   "source": [
    "\n",
    "Descarga el archivo \"medallas\" y carga el DataFrame"
   ]
  },
  {
   "cell_type": "code",
   "execution_count": 76,
   "metadata": {},
   "outputs": [
    {
     "name": "stdout",
     "output_type": "stream",
     "text": [
      "               País   Oro  Plata  Bronce\n",
      "1             China  1473    994     720\n",
      "2             Japón  1032   1037     985\n",
      "3     Corea del Sur   745    663     827\n",
      "4              Irán   179    181     197\n",
      "5        Kazajistán   155    158     224\n",
      "6             India   154    202     315\n",
      "7         Tailandia   132    175     278\n",
      "8         Indonesia   112    131     240\n",
      "9      China Taipéi    99    144     276\n",
      "10  Corea del Norte    91    120     235\n",
      "<class 'pandas.core.frame.DataFrame'>\n"
     ]
    }
   ],
   "source": [
    "df_medallas = pd.read_csv(\"archivos-ejercicios/02-leccion-medallas-pair.csv\", index_col=[0])\n",
    "print(df_medallas)\n",
    "print(type(df_medallas))"
   ]
  }
 ],
 "metadata": {
  "kernelspec": {
   "display_name": "base",
   "language": "python",
   "name": "python3"
  },
  "language_info": {
   "codemirror_mode": {
    "name": "ipython",
    "version": 3
   },
   "file_extension": ".py",
   "mimetype": "text/x-python",
   "name": "python",
   "nbconvert_exporter": "python",
   "pygments_lexer": "ipython3",
   "version": "3.12.4"
  }
 },
 "nbformat": 4,
 "nbformat_minor": 2
}
